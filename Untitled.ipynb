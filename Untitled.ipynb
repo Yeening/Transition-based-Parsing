{
 "cells": [
  {
   "cell_type": "code",
   "execution_count": 77,
   "metadata": {},
   "outputs": [
    {
     "data": {
      "text/plain": [
       "['RightArc',\n",
       " 'Shift',\n",
       " 'RightArc',\n",
       " 'RightArc',\n",
       " 'RightArc',\n",
       " 'Shift',\n",
       " 'Shift',\n",
       " 'RightArc',\n",
       " 'Shift',\n",
       " 'LeftArc',\n",
       " 'LeftArc',\n",
       " 'Shift',\n",
       " 'LeftArc',\n",
       " 'Shift',\n",
       " 'Shift',\n",
       " 'Shift',\n",
       " 'RightArc',\n",
       " 'RightArc',\n",
       " 'RightArc',\n",
       " 'Shift',\n",
       " 'LeftArc',\n",
       " 'Shift',\n",
       " 'Shift',\n",
       " 'LeftArc',\n",
       " 'LeftArc',\n",
       " 'Shift',\n",
       " 'Shift',\n",
       " 'Shift',\n",
       " 'LeftArc',\n",
       " 'Shift',\n",
       " 'Shift']"
      ]
     },
     "execution_count": 77,
     "metadata": {},
     "output_type": "execute_result"
    }
   ],
   "source": [
    "tree = load_data('data.conll')[0]\n",
    "# tc = [2,2,0,5,5,2,7,5,7]\n",
    "generate_actions(tree)"
   ]
  },
  {
   "cell_type": "code",
   "execution_count": 75,
   "metadata": {},
   "outputs": [],
   "source": [
    "import numpy as np\n",
    "\n",
    "\n",
    "def load_data(file_name):\n",
    "    file = open(file_name,'r')\n",
    "    lines = file.readlines()\n",
    "    x = []\n",
    "    i = 0\n",
    "    while i < len(lines):\n",
    "        if lines[i][0] == '#':\n",
    "            i += 3\n",
    "            data = [0]\n",
    "            while lines[i].strip():\n",
    "                line_data = lines[i].split()\n",
    "                incoming_index = int(line_data[6])\n",
    "                data.append(incoming_index)\n",
    "                if incoming_index == 0:\n",
    "                    data[0] = int(line_data[0])\n",
    "                i += 1\n",
    "            x.append(data)\n",
    "        i += 1\n",
    "    return x\n",
    "\n",
    "def generate_actions(tree):\n",
    "    # generate an action sequence from dependency tree\n",
    "    # dependency tree format: sequence of incoming node index, sequence[0] represents the root node index\n",
    "    index = tree[0]\n",
    "    res = []\n",
    "    # Traverse\n",
    "    visit(tree, index, res, True)\n",
    "    return res\n",
    "    \n",
    "# Remind: left side outcomings shift should behind the incoming node shift\n",
    "def visit(tree, index, res, print_shift):\n",
    "    for i in range(len(tree)-1,index,-1):\n",
    "        if tree[i] == index:\n",
    "            res.append('RightArc')\n",
    "            visit(tree, i, res, True)\n",
    "    left_count = 0\n",
    "    for i in range(index-1,0,-1):\n",
    "        if tree[i] == index:\n",
    "            left_count += 1\n",
    "            res.append('LeftArc')\n",
    "            visit(tree, i, res, False)    \n",
    "    for i in range(left_count):\n",
    "        res.append('Shift')\n",
    "    if print_shift:\n",
    "        res.append('Shift')\n",
    "#     print(index)\n",
    "#     for i in range(len(tree)-1,0,-1):\n",
    "#         if tree[i] == index:\n",
    "#             if i > index:\n",
    "#                 res.append('RightArc')\n",
    "#             else:\n",
    "#                 res.append('LeftArc')\n",
    "#             visit(tree, i, res)\n",
    "    "
   ]
  }
 ],
 "metadata": {
  "kernelspec": {
   "display_name": "ml3.7",
   "language": "python",
   "name": "ml3.7"
  },
  "language_info": {
   "codemirror_mode": {
    "name": "ipython",
    "version": 3
   },
   "file_extension": ".py",
   "mimetype": "text/x-python",
   "name": "python",
   "nbconvert_exporter": "python",
   "pygments_lexer": "ipython3",
   "version": "3.7.4"
  }
 },
 "nbformat": 4,
 "nbformat_minor": 2
}
